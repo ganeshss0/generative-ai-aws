{
 "cells": [
  {
   "cell_type": "code",
   "execution_count": 1,
   "metadata": {},
   "outputs": [],
   "source": [
    "# sample response dict\n",
    "responses = {\n",
    "    \"hi\": \"Hello there! How can I assist you today?\",\n",
    "    \"how are you\": \"I'm a bot, so I don't have feelings, but I'm functioning properly!\",\n",
    "    \"bye\": \"Goodbye! Have a great day!\",\n",
    "    \"help\": \"Sure, I can help you. What do you need assistance with?\",\n",
    "}\n",
    "import IPython.utils.capture"
   ]
  },
  {
   "cell_type": "code",
   "execution_count": 2,
   "metadata": {},
   "outputs": [],
   "source": [
    "def get_response(user_input):\n",
    "    \"\"\"\n",
    "    Get a response to the user's input\n",
    "    \"\"\"\n",
    "    return responses.get(\n",
    "        user_input.lower(),\n",
    "        \"I didn't understand that.\"\n",
    "        )"
   ]
  },
  {
   "cell_type": "code",
   "execution_count": 7,
   "metadata": {},
   "outputs": [
    {
     "name": "stdout",
     "output_type": "stream",
     "text": [
      "Bot: Hello there! How can I assist you today?\n",
      "Bot: Sure, I can help you. What do you need assistance with?\n",
      "Quitting\n"
     ]
    }
   ],
   "source": [
    "# main chat loop\n",
    "\n",
    "while True:\n",
    "    user_input = input(\"You: \")\n",
    "    if user_input == \"quit\":\n",
    "        print(\"Quitting\")\n",
    "        break\n",
    "    response = get_response(user_input)\n",
    "    print(\"Bot: {}\".format(response))"
   ]
  }
 ],
 "metadata": {
  "kernelspec": {
   "display_name": "Python 3",
   "language": "python",
   "name": "python3"
  },
  "language_info": {
   "codemirror_mode": {
    "name": "ipython",
    "version": 3
   },
   "file_extension": ".py",
   "mimetype": "text/x-python",
   "name": "python",
   "nbconvert_exporter": "python",
   "pygments_lexer": "ipython3",
   "version": "3.10.11"
  }
 },
 "nbformat": 4,
 "nbformat_minor": 2
}
