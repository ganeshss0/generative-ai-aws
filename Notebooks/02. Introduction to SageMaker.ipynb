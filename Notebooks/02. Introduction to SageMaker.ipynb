{
 "cells": [
  {
   "cell_type": "code",
   "execution_count": 6,
   "metadata": {},
   "outputs": [
    {
     "name": "stdout",
     "output_type": "stream",
     "text": [
      "Bot: Hello! Welcome to TechGadget Support. How can I assist you today?\n",
      "Bot: Yes, we have a variety of smartwatches. You can check them out on our products page.\n",
      "Bot: Please send your order tracking number.\n",
      "Bot: Your Order was placed on 01/01/2024 at 09:18 AM\n",
      "Order Packed: 01/01/2024 01:12 PM\n",
      "Order Reached your nearest delivery point: 02/01/2024 08:32 AM\n",
      "Order out for delivery: Expected at today 11:00 AM.\n",
      "Bot: You can call our customer care service at +919090909090 to cancel your order.\n",
      "Bot: I'm not sure how to respond to that. Can you try asking something else?\n",
      "Bot: I'm not sure how to respond to that. Can you try asking something else?\n",
      "Bot: Please send your order tracking number.\n",
      "Bot: I'm not sure how to respond to that. Can you try asking something else?\n",
      "Bot: I'm not sure how to respond to that. Can you try asking something else?\n",
      "Bot: I'm not sure how to respond to that. Can you try asking something else?\n",
      "Bot: Redirecting to our customer care, Please wait...\n"
     ]
    }
   ],
   "source": [
    "# Simple Customer Support Chatbot\n",
    "\n",
    "responses = {\n",
    "    \"hi\": \"Hello! Welcome to TechGadget Support. How can I assist you today?\",\n",
    "    \"do you have smartwatches\": \"Yes, we have a variety of smartwatches. You can check them out on our products page.\",\n",
    "    \"shipping time\": \"Shipping usually takes 3-5 business days.\",\n",
    "    \"shipping methods\": \"We offer standard, expedited, and overnight shipping.\",\n",
    "    \"payment method\" : \"We accept Debit Cards, Credit Card, UPI and NEFT Payments\",\n",
    "    \"return policy\": \"You can return products within 30 days of receipt for a full refund.\",\n",
    "    \"how to return\": \"To return a product, please visit our returns page for a step-by-step guide.\",\n",
    "    \"won’t turn on\": \"Make sure your gadget is charged. If it still won’t turn on, you can visit our troubleshooting page.\",\n",
    "    \"reset device\": \"To reset your device, hold down the power button for 10 seconds. If that doesn't work, please check the manual for a factory reset.\",\n",
    "    \"bye\": \"Thank you for visiting TechGadget. If you have more questions, feel free to ask. Goodbye!\",\n",
    "    \"customer care\" : \"You can call our customer care service at +919090909090\",\n",
    "    \"track order\" : \"Please send your order tracking number.\",\n",
    "    \"cancel order\" : \"You can call our customer care service at +919090909090 to cancel your order.\",\n",
    "\n",
    "}\n",
    "is_previous_response_invalid = 0\n",
    "def track_order(order_number) -> str:\n",
    "    \"\"\"Returns the order details.\"\"\"\n",
    "\n",
    "    order_detail = '''Your Order was placed on 01/01/2024 at 09:18 AM\\nOrder Packed: 01/01/2024 01:12 PM\\nOrder Reached your nearest delivery point: 02/01/2024 08:32 AM\\nOrder out for delivery: Expected at today 11:00 AM.'''\n",
    "    return order_detail\n",
    "def get_bot_response(user_input) -> str:\n",
    "    global is_previous_response_invalid\n",
    "\n",
    "\n",
    "    for keyword in responses:\n",
    "        if keyword in user_input:\n",
    "            is_previous_response_invalid = 0\n",
    "            return responses[keyword]\n",
    "    if user_input.startswith(\"ordn\"):\n",
    "        is_previous_response_invalid = 0\n",
    "        return track_order(order_number=user_input)\n",
    "\n",
    "    is_previous_response_invalid += 1\n",
    "    return \"I'm not sure how to respond to that. Can you try asking something else?\"\n",
    "\n",
    "while True:\n",
    "\n",
    "    user_input = input(\"You: \").lower()\n",
    "    if user_input in [\"quit\", \"exit\", \"bye\", \"stop\"]:\n",
    "        print(\"Bot: Goodbye! If you have any more questions, we're here to help.\")\n",
    "        break\n",
    "    elif is_previous_response_invalid == 3:\n",
    "        print(\"Bot: Redirecting to our customer care, Please wait...\")\n",
    "        break\n",
    "    response = get_bot_response(user_input)\n",
    "    print(f\"Bot: {response}\")"
   ]
  }
 ],
 "metadata": {
  "kernelspec": {
   "display_name": "Python 3",
   "language": "python",
   "name": "python3"
  },
  "language_info": {
   "codemirror_mode": {
    "name": "ipython",
    "version": 3
   },
   "file_extension": ".py",
   "mimetype": "text/x-python",
   "name": "python",
   "nbconvert_exporter": "python",
   "pygments_lexer": "ipython3",
   "version": "3.10.11"
  }
 },
 "nbformat": 4,
 "nbformat_minor": 2
}
